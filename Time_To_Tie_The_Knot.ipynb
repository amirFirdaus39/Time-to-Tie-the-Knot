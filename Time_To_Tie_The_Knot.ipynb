{
  "nbformat": 4,
  "nbformat_minor": 0,
  "metadata": {
    "colab": {
      "provenance": [],
      "collapsed_sections": [],
      "toc_visible": true,
      "authorship_tag": "ABX9TyP+KLxz+4u5Eh8LhJiTbJgZ",
      "include_colab_link": true
    },
    "kernelspec": {
      "name": "python3",
      "display_name": "Python 3"
    },
    "language_info": {
      "name": "python"
    }
  },
  "cells": [
    {
      "cell_type": "markdown",
      "metadata": {
        "id": "view-in-github",
        "colab_type": "text"
      },
      "source": [
        "<a href=\"https://colab.research.google.com/github/amirFirdaus39/Time-to-Tie-the-Knot/blob/main/Time_To_Tie_The_Knot.ipynb\" target=\"_parent\"><img src=\"https://colab.research.google.com/assets/colab-badge.svg\" alt=\"Open In Colab\"/></a>"
      ]
    },
    {
      "cell_type": "markdown",
      "metadata": {
        "id": "Ay4IEv2E58W0"
      },
      "source": [
        "# Time to Tie the Knot\n",
        "## Predicting how long will it get you to get married to your loved one!\n",
        "\n",
        "By: Amir Firdaus, Imran, Zariff, Xuhuipin, XueBing"
      ]
    },
    {
      "cell_type": "code",
      "metadata": {
        "id": "NUvh7nGw7-um"
      },
      "source": [
        "# used for manipulating directory paths\n",
        "import os\n",
        " \n",
        "# Scientific and vector computation for python\n",
        "import numpy as np\n",
        " \n",
        "# Statistic library\n",
        "from sklearn.metrics import mean_squared_error\n",
        "from sklearn.metrics import r2_score\n",
        "import statsmodels.api as sm\n"
      ],
      "execution_count": null,
      "outputs": []
    },
    {
      "cell_type": "markdown",
      "metadata": {
        "id": "85jYwTv48oQ9"
      },
      "source": [
        "### **9 Features to be used for the model:**\n",
        "\n",
        "x1-How many years did you know each other before becoming a couple? (years_knowing)\n",
        "\n",
        "x2-How many partners did you have before in total? (total_partners)\n",
        "\n",
        "x3-How much do you care about money? (money)\n",
        "\n",
        "x4-How ready are you in having children at that time? (ready_children) \n",
        "\n",
        "x5-How similar are your hobbies/interest with your partner? (hobbies)\n",
        "\n",
        "x6-Do you communicate well with your partner during couple? (communicate)\n",
        " \n",
        "x7-How is your financial status during couple relationship? (financial)\n",
        "\n",
        "x8-What is the age gap (in years) between you and your partner? (age_gap)\n",
        "\n",
        "x9-How well is you and your partner relationship with respective in-laws? (inlaw)\n",
        "\n"
      ]
    },
    {
      "cell_type": "markdown",
      "metadata": {
        "id": "KP5gsg_ryN5T"
      },
      "source": [
        "# Testing Different Kind of Models with Different Features"
      ]
    },
    {
      "cell_type": "markdown",
      "metadata": {
        "id": "XlodUCoVyH5_"
      },
      "source": [
        "Model 1: Using same data set for training and testing (70 data)\n",
        "\n",
        "Model 2: Using 45 data for training and 25 data for testing\n",
        "\n",
        "Model 3: Removing feature hobbies\n",
        "\n",
        "Model 4: Removing feature partners_before\n",
        "\n",
        "Model 5: Removing feature communication\n",
        "\n",
        "Model 6: Removing age_gap\n",
        "\n",
        "Model 7: Removing money \n"
      ]
    },
    {
      "cell_type": "markdown",
      "metadata": {
        "id": "QrT2p0GojblO"
      },
      "source": [
        "### Model 1. Using same training and testing dataset(70 data)."
      ]
    },
    {
      "cell_type": "code",
      "metadata": {
        "id": "gOGaFQSb8CQZ"
      },
      "source": [
        "# Load data\n",
        "\n",
        "data = np.loadtxt(os.path.join('survey.txt'), delimiter=',')\n",
        "X = data[:, :9]\n",
        "y = data[:, 9]\n",
        "m = y.size"
      ],
      "execution_count": null,
      "outputs": []
    },
    {
      "cell_type": "code",
      "metadata": {
        "id": "EdSm44ZU8IjD"
      },
      "source": [
        "def featureNormalize(X):\n",
        "    # You need to set these values correctly\n",
        "    X_norm = X.copy()\n",
        "    mu = np.zeros(X.shape[1])\n",
        "    sigma = np.zeros(X.shape[1])\n",
        "\n",
        "    mu = np.mean(X, axis = 0)\n",
        "    sigma = np.std(X, axis = 0)\n",
        "    X_norm = (X - mu) / sigma\n",
        "    \n",
        "    return X_norm, mu, sigma"
      ],
      "execution_count": null,
      "outputs": []
    },
    {
      "cell_type": "code",
      "metadata": {
        "id": "gqBkKIQw8QJl"
      },
      "source": [
        "# call featureNormalize on the loaded data\n",
        "X_norm, mu, sigma = featureNormalize(X)\n",
        "# Add intercept term to X\n",
        "X = np.concatenate([np.ones((m, 1)), X_norm], axis=1)"
      ],
      "execution_count": null,
      "outputs": []
    },
    {
      "cell_type": "code",
      "metadata": {
        "id": "HDCy6izA8XlS"
      },
      "source": [
        "#calculate the cost for the model\n",
        "def computeCostMulti(X, y, theta):\n",
        "\n",
        "    # Initialize some useful values\n",
        "    m = y.shape[0] # number of training examples\n",
        "    J = 0\n",
        "    h = np.dot(X, theta)\n",
        "    J = (1/(2 * m)) * np.sum(np.square(np.dot(X, theta) - y))\n",
        "    return J\n",
        "\n",
        "#performing gradient descent on the multi regression model\n",
        "def gradientDescentMulti(X, y, theta, alpha, num_iters):\n",
        "\n",
        "    # Initialize some useful values\n",
        "    m = y.shape[0] # number of training examples\n",
        "    # make a copy of theta, which will be updated by gradient descent\n",
        "    theta = theta.copy()\n",
        "    J_history = []\n",
        "    for i in range(num_iters):\n",
        "        theta = theta - (alpha / m) * (np.dot(X, theta) - y).dot(X)\n",
        "\n",
        "    # save the cost J in every iteration\n",
        "    J_history.append(computeCostMulti(X, y, theta))\n",
        "    return theta, J_history\n",
        "\n",
        "#predict data\n",
        "def predictAll(X_norm,size,theta):\n",
        "    X_norm = np.concatenate([np.ones((size,1)),X_norm], axis = 1)\n",
        "    pred = X_norm.dot(theta)\n",
        "    \n",
        "    return pred"
      ],
      "execution_count": null,
      "outputs": []
    },
    {
      "cell_type": "code",
      "metadata": {
        "id": "IVQ3povz0HdS"
      },
      "source": [
        "# Settings\n",
        "# Choose some alpha value\n",
        "alpha = 0.1\n",
        "num_iters = 200\n",
        "# init theta and run gradient descent\n",
        "theta = np.zeros(10)\n",
        "theta, J_history = gradientDescentMulti(X, y, theta, alpha, num_iters)"
      ],
      "execution_count": null,
      "outputs": []
    },
    {
      "cell_type": "code",
      "metadata": {
        "id": "CBUGDrCHnqzk"
      },
      "source": [
        "#evaluating the accuracy of the model using rmspe, mape, almost correct\n",
        "def evaluate(y_test,y_pred):\n",
        "  m_test = y_test.size\n",
        "  #calculating rmse \n",
        "  rmse = mean_squared_error(y_test, y_pred, squared = False)\n",
        "  print(\"RMSE: {:.2f}\".format(rmse))\n",
        "\n",
        "  #finding error percentage using the percentage error rmspe\n",
        "  eps = 1e-10\n",
        "  rmspe = (np.sqrt(np.mean(np.square((y_test - y_pred)/(y_test+eps))))) \n",
        "  print(\"RMSPE: {:.2f}%\".format((rmspe)*100)) \n",
        "  print(\"Accuracy using RMSPE: {:.2f}%\\n\".format((1- rmspe)*100))\n",
        "\n",
        "  #finding error rate using median absolute percentage error\n",
        "  mape = np.median(abs((y_test - y_pred)/y_test))\n",
        "  print(\"MAPE: {:.2f}%\".format((mape) * 100))\n",
        "  print(\"Accuracy using MAPE: {:.2f}%\\n\".format((1- mape)*100))\n",
        "\n",
        "  #finding accuracy using almost correct method (we take it as correct if the difference between true and predicted less than 25%)\n",
        "  almost = np.zeros(m_test)\n",
        "  for i in range(m_test):\n",
        "      if abs((y_test[i] - y_pred[i])/y_test[i]) < 0.25:\n",
        "          almost[i] = 1\n",
        "      else:\n",
        "          almost[i] = 0\n",
        "      \n",
        "  print(\"Accuracy using almost correct: {:.2f}%\\n\".format(np.mean(almost == 1) * 100))"
      ],
      "execution_count": null,
      "outputs": []
    },
    {
      "cell_type": "code",
      "metadata": {
        "colab": {
          "base_uri": "https://localhost:8080/"
        },
        "id": "t7iJDW6DxBGM",
        "outputId": "ea8ad6a3-2204-4b7f-806f-230e7082d5b7"
      },
      "source": [
        "#evaluation metrics\n",
        "\n",
        "#predicted value\n",
        "y_pred = predictAll(X_norm,m,theta)\n",
        "evaluate(y,y_pred)\n"
      ],
      "execution_count": null,
      "outputs": [
        {
          "output_type": "stream",
          "text": [
            "RMSE: 0.80\n",
            "RMSPE: 19.94%\n",
            "Accuracy using RMSPE: 80.06%\n",
            "\n",
            "MAPE: 14.25%\n",
            "Accuracy using MAPE: 85.75%\n",
            "\n",
            "Accuracy using almost correct: 78.57%\n",
            "\n"
          ],
          "name": "stdout"
        }
      ]
    },
    {
      "cell_type": "code",
      "metadata": {
        "colab": {
          "base_uri": "https://localhost:8080/"
        },
        "id": "8MmmBo8e1LmK",
        "outputId": "4687920d-5bc0-4f9e-80b5-5fa1df9a4ee5"
      },
      "source": [
        "#display the osl summary\n",
        "est = sm.OLS(y, X)\n",
        "est2 = est.fit()\n",
        "print(est2.summary())"
      ],
      "execution_count": null,
      "outputs": [
        {
          "output_type": "stream",
          "text": [
            "                            OLS Regression Results                            \n",
            "==============================================================================\n",
            "Dep. Variable:                      y   R-squared:                       0.537\n",
            "Model:                            OLS   Adj. R-squared:                  0.467\n",
            "Method:                 Least Squares   F-statistic:                     7.730\n",
            "Date:                Wed, 02 Jun 2021   Prob (F-statistic):           1.91e-07\n",
            "Time:                        12:59:28   Log-Likelihood:                -83.742\n",
            "No. Observations:                  70   AIC:                             187.5\n",
            "Df Residuals:                      60   BIC:                             210.0\n",
            "Df Model:                           9                                         \n",
            "Covariance Type:            nonrobust                                         \n",
            "==============================================================================\n",
            "                 coef    std err          t      P>|t|      [0.025      0.975]\n",
            "------------------------------------------------------------------------------\n",
            "const          3.8229      0.103     36.996      0.000       3.616       4.030\n",
            "x1            -0.1319      0.152     -0.866      0.390      -0.437       0.173\n",
            "x2            -0.0446      0.151     -0.296      0.768      -0.347       0.257\n",
            "x3             0.0207      0.136      0.152      0.880      -0.252       0.293\n",
            "x4            -0.2722      0.151     -1.808      0.076      -0.573       0.029\n",
            "x5            -0.0614      0.117     -0.527      0.600      -0.295       0.172\n",
            "x6             0.0959      0.140      0.686      0.495      -0.184       0.376\n",
            "x7            -0.3652      0.164     -2.223      0.030      -0.694      -0.037\n",
            "x8             0.1986      0.119      1.671      0.100      -0.039       0.436\n",
            "x9            -0.4106      0.161     -2.548      0.013      -0.733      -0.088\n",
            "==============================================================================\n",
            "Omnibus:                        7.125   Durbin-Watson:                   1.292\n",
            "Prob(Omnibus):                  0.028   Jarque-Bera (JB):                6.381\n",
            "Skew:                           0.683   Prob(JB):                       0.0412\n",
            "Kurtosis:                       3.566   Cond. No.                         3.54\n",
            "==============================================================================\n",
            "\n",
            "Warnings:\n",
            "[1] Standard Errors assume that the covariance matrix of the errors is correctly specified.\n"
          ],
          "name": "stdout"
        }
      ]
    },
    {
      "cell_type": "markdown",
      "metadata": {
        "id": "MS1rE_N5zeH6"
      },
      "source": [
        "only x7(financial) and x9(inlaw) has p value < 0.05\n",
        "\n",
        "highest p value: x3(money) -> x2(total_partner) -> x3(money) -> x6(communicate) -> x1(years_knowing) -> x8(age_gape) -> x4(ready_children)\n"
      ]
    },
    {
      "cell_type": "markdown",
      "metadata": {
        "id": "lnzloauxjvY8"
      },
      "source": [
        "# Model 2. Using 45 data for training, 25 for testing"
      ]
    },
    {
      "cell_type": "code",
      "metadata": {
        "id": "g35JuXYchqht"
      },
      "source": [
        "# Load data\n",
        "data = np.loadtxt(os.path.join('survey.txt'), delimiter=',')\n",
        "split = 45\n",
        "X = data[:split, :9]\n",
        "y = data[:split, 9]\n",
        "X_test =  data[split:, :9]\n",
        "y_test = data[split:, 9]"
      ],
      "execution_count": null,
      "outputs": []
    },
    {
      "cell_type": "code",
      "metadata": {
        "id": "dASKAe5-q6J9"
      },
      "source": [
        "#Creating a function model that easily run all relevan code to test a model\n",
        "def model(X,y,X_test,y_test,numtheta):\n",
        "  m = y.size\n",
        "  m_test = y_test.size\n",
        "  \n",
        "  X_norm, mu, sigma = featureNormalize(X)\n",
        "  X = np.concatenate([np.ones((m, 1)), X_norm], axis=1)\n",
        "\n",
        "  # Settings\n",
        "  # Choose some alpha value\n",
        "  alpha = 0.1\n",
        "  num_iters = 200\n",
        "  \n",
        "  # init theta and run gradient descent\n",
        "  theta = np.zeros(numtheta)\n",
        "  theta, J_history = gradientDescentMulti(X, y, theta, alpha, num_iters)\n",
        "\n",
        "  X_norm_test, mu, sigma = featureNormalize(X_test)\n",
        "  #predicted value\n",
        "  y_pred = predictAll(X_norm_test,m_test,theta)\n",
        "  evaluate(y_test,y_pred)\n",
        "\n",
        "  #display the ols summary\n",
        "  est = sm.OLS(y, X)\n",
        "  est2 = est.fit()\n",
        "  print(est2.summary())\n",
        "  \n",
        "  return theta"
      ],
      "execution_count": null,
      "outputs": []
    },
    {
      "cell_type": "code",
      "metadata": {
        "colab": {
          "base_uri": "https://localhost:8080/"
        },
        "id": "iTrvrrnarehO",
        "outputId": "b3c9790b-dd7a-431b-cd6d-b407aec9207d"
      },
      "source": [
        "theta2 = model(X,y,X_test,y_test,10)"
      ],
      "execution_count": null,
      "outputs": [
        {
          "output_type": "stream",
          "text": [
            "RMSE: 0.98\n",
            "RMSPE: 28.86%\n",
            "Accuracy using RMSPE: 71.14%\n",
            "\n",
            "MAPE: 23.74%\n",
            "Accuracy using MAPE: 76.26%\n",
            "\n",
            "Accuracy using almost correct: 60.00%\n",
            "\n",
            "                            OLS Regression Results                            \n",
            "==============================================================================\n",
            "Dep. Variable:                      y   R-squared:                       0.633\n",
            "Model:                            OLS   Adj. R-squared:                  0.539\n",
            "Method:                 Least Squares   F-statistic:                     6.717\n",
            "Date:                Wed, 02 Jun 2021   Prob (F-statistic):           1.57e-05\n",
            "Time:                        13:03:24   Log-Likelihood:                -54.056\n",
            "No. Observations:                  45   AIC:                             128.1\n",
            "Df Residuals:                      35   BIC:                             146.2\n",
            "Df Model:                           9                                         \n",
            "Covariance Type:            nonrobust                                         \n",
            "==============================================================================\n",
            "                 coef    std err          t      P>|t|      [0.025      0.975]\n",
            "------------------------------------------------------------------------------\n",
            "const          4.0356      0.136     29.681      0.000       3.760       4.312\n",
            "x1            -0.2760      0.226     -1.222      0.230      -0.735       0.183\n",
            "x2            -0.0621      0.202     -0.308      0.760      -0.472       0.348\n",
            "x3             0.2070      0.178      1.162      0.253      -0.155       0.569\n",
            "x4            -0.2962      0.223     -1.326      0.194      -0.750       0.157\n",
            "x5            -0.0322      0.151     -0.213      0.833      -0.340       0.275\n",
            "x6             0.1538      0.187      0.822      0.417      -0.226       0.534\n",
            "x7            -0.5767      0.220     -2.619      0.013      -1.024      -0.130\n",
            "x8             0.1694      0.169      1.001      0.324      -0.174       0.513\n",
            "x9            -0.3614      0.205     -1.761      0.087      -0.778       0.055\n",
            "==============================================================================\n",
            "Omnibus:                        2.449   Durbin-Watson:                   1.534\n",
            "Prob(Omnibus):                  0.294   Jarque-Bera (JB):                1.600\n",
            "Skew:                           0.439   Prob(JB):                        0.449\n",
            "Kurtosis:                       3.284   Cond. No.                         4.00\n",
            "==============================================================================\n",
            "\n",
            "Warnings:\n",
            "[1] Standard Errors assume that the covariance matrix of the errors is correctly specified.\n"
          ],
          "name": "stdout"
        }
      ]
    },
    {
      "cell_type": "markdown",
      "metadata": {
        "id": "nG9SwRzPmu31"
      },
      "source": [
        "only x7(financial) has p value < 0.05\n",
        "\n",
        "high p value:\n",
        "x5(hobbies) --> x2(total_partner) --> x6(communicate) --> x8(age_gape) --> x3(money) --> x1(years_knowing) --> x4(ready_children) --> x9(inlaw)\n"
      ]
    },
    {
      "cell_type": "markdown",
      "metadata": {
        "id": "TdNYlt31U2J3"
      },
      "source": [
        "# Removing features from Model 2 to get better model\n",
        "## Model 3. Removing Hobbies"
      ]
    },
    {
      "cell_type": "markdown",
      "metadata": {
        "id": "9d7j_-TSVLNc"
      },
      "source": [
        "### Features used:\n",
        "\n",
        "x1-years_knowing\n",
        "\n",
        "x2-total_partners\n",
        "\n",
        "x3-money\n",
        "\n",
        "x4-ready_children\n",
        "\n",
        "x5-communicate\n",
        "\n",
        "x6-financial\n",
        "\n",
        "x7-age_gap\n",
        "\n",
        "x8-inlaw\n",
        "\n",
        "~x5-hobbies~"
      ]
    },
    {
      "cell_type": "code",
      "metadata": {
        "colab": {
          "base_uri": "https://localhost:8080/"
        },
        "id": "7ScRkhcrTUeY",
        "outputId": "f4ca4fbe-084f-44cd-a41d-3cc2451c5328"
      },
      "source": [
        "# Load data\n",
        "\n",
        "data = np.loadtxt(os.path.join('survey.txt'), delimiter=',')\n",
        "split = 45\n",
        "\n",
        "X = data[:split, :4]\n",
        "X_rest =data[:split, 5:9]\n",
        "X = np.concatenate([X, X_rest], axis=1)\n",
        "\n",
        "X_test =  data[split:, :4]\n",
        "X_test_rest = data[split:, 5:9]\n",
        "X_test = np.concatenate([X_test, X_test_rest], axis=1)\n",
        "\n",
        "y = data[:split, 9]\n",
        "y_test = data[split:, 9]\n",
        "\n",
        "print(X.shape)\n",
        "print(X_test.shape)\n",
        "print(y.shape)\n",
        "print(y_test.shape)"
      ],
      "execution_count": null,
      "outputs": [
        {
          "output_type": "stream",
          "text": [
            "(45, 8)\n",
            "(25, 8)\n",
            "(45,)\n",
            "(25,)\n"
          ],
          "name": "stdout"
        }
      ]
    },
    {
      "cell_type": "code",
      "metadata": {
        "colab": {
          "base_uri": "https://localhost:8080/"
        },
        "id": "VqT_Vg_Dwi5v",
        "outputId": "9cae9a38-f79a-4bef-a856-8c3e6e171628"
      },
      "source": [
        "theta3 = model(X,y,X_test,y_test,9)"
      ],
      "execution_count": null,
      "outputs": [
        {
          "output_type": "stream",
          "text": [
            "RMSE: 0.99\n",
            "RMSPE: 29.06%\n",
            "Accuracy using RMSPE: 70.94%\n",
            "\n",
            "MAPE: 23.96%\n",
            "Accuracy using MAPE: 76.04%\n",
            "\n",
            "Accuracy using almost correct: 60.00%\n",
            "\n",
            "                            OLS Regression Results                            \n",
            "==============================================================================\n",
            "Dep. Variable:                      y   R-squared:                       0.633\n",
            "Model:                            OLS   Adj. R-squared:                  0.551\n",
            "Method:                 Least Squares   F-statistic:                     7.756\n",
            "Date:                Wed, 02 Jun 2021   Prob (F-statistic):           5.44e-06\n",
            "Time:                        13:05:19   Log-Likelihood:                -54.085\n",
            "No. Observations:                  45   AIC:                             126.2\n",
            "Df Residuals:                      36   BIC:                             142.4\n",
            "Df Model:                           8                                         \n",
            "Covariance Type:            nonrobust                                         \n",
            "==============================================================================\n",
            "                 coef    std err          t      P>|t|      [0.025      0.975]\n",
            "------------------------------------------------------------------------------\n",
            "const          4.0356      0.134     30.083      0.000       3.763       4.308\n",
            "x1            -0.2675      0.219     -1.219      0.231      -0.713       0.177\n",
            "x2            -0.0664      0.198     -0.335      0.739      -0.468       0.335\n",
            "x3             0.2089      0.176      1.190      0.242      -0.147       0.565\n",
            "x4            -0.3038      0.218     -1.396      0.171      -0.745       0.138\n",
            "x5             0.1635      0.179      0.913      0.367      -0.200       0.527\n",
            "x6            -0.5766      0.217     -2.654      0.012      -1.017      -0.136\n",
            "x7             0.1684      0.167      1.009      0.320      -0.170       0.507\n",
            "x8            -0.3715      0.197     -1.885      0.067      -0.771       0.028\n",
            "==============================================================================\n",
            "Omnibus:                        2.346   Durbin-Watson:                   1.521\n",
            "Prob(Omnibus):                  0.309   Jarque-Bera (JB):                1.523\n",
            "Skew:                           0.430   Prob(JB):                        0.467\n",
            "Kurtosis:                       3.269   Cond. No.                         3.97\n",
            "==============================================================================\n",
            "\n",
            "Warnings:\n",
            "[1] Standard Errors assume that the covariance matrix of the errors is correctly specified.\n"
          ],
          "name": "stdout"
        }
      ]
    },
    {
      "cell_type": "markdown",
      "metadata": {
        "id": "i-wnJOHOzxCk"
      },
      "source": [
        "**Notes:**\n",
        "\n",
        "adjusted r2:-\n",
        "\n",
        "model 1: 0.467\n",
        "\n",
        "model 2: 0.539\n",
        "\n",
        "model 3: 0.551\n",
        "\n",
        "\n",
        "p value < 0.05:\n",
        "x6-financial\n",
        "\n",
        "highest p value: \n",
        "x2-total_partners"
      ]
    },
    {
      "cell_type": "markdown",
      "metadata": {
        "id": "VHFVR34G1keb"
      },
      "source": [
        "## Model 4. Removing total_partners\n",
        "\n",
        "x1-years_knowing\n",
        "\n",
        "x2-money\n",
        "\n",
        "x3-ready_children\n",
        "\n",
        "\n",
        "x4-communicate\n",
        "\n",
        "x5-financial\n",
        "\n",
        "x6-age_gap\n",
        "\n",
        "x7-inlaw\n",
        "\n",
        "~hobbies~\n",
        "\n",
        "~total_partners~"
      ]
    },
    {
      "cell_type": "code",
      "metadata": {
        "colab": {
          "base_uri": "https://localhost:8080/"
        },
        "id": "BvfgoLJ01kB9",
        "outputId": "ab8b37de-21e6-441e-c313-041289ca4e85"
      },
      "source": [
        "# Load data\n",
        "\n",
        "data = np.loadtxt(os.path.join('survey.txt'), delimiter=',')\n",
        "split = 45\n",
        "\n",
        "Xnew = X[:, :1]\n",
        "X_rest1 = X[:, 2:8]\n",
        "Xnew = np.concatenate([Xnew, X_rest1], axis=1)\n",
        "\n",
        "X_testnew =  X_test[:, :1]\n",
        "X_test_rest1 = X_test[:, 2:8]\n",
        "X_testnew = np.concatenate([X_testnew, X_test_rest1], axis=1)\n",
        "\n",
        "X = Xnew\n",
        "X_test = X_testnew\n",
        "y = data[:split, 9]\n",
        "y_test = data[split:, 9]\n",
        "\n",
        "print(X.shape)\n",
        "print(X_test.shape)\n",
        "print(y.shape)\n",
        "print(y_test.shape)"
      ],
      "execution_count": null,
      "outputs": [
        {
          "output_type": "stream",
          "text": [
            "(45, 7)\n",
            "(25, 7)\n",
            "(45,)\n",
            "(25,)\n"
          ],
          "name": "stdout"
        }
      ]
    },
    {
      "cell_type": "code",
      "metadata": {
        "colab": {
          "base_uri": "https://localhost:8080/"
        },
        "id": "NN1ksjNa1j6c",
        "outputId": "229d2c67-0510-4e3e-b770-24ee62b5de5a"
      },
      "source": [
        "theta4 = model(X,y,X_test,y_test,8)"
      ],
      "execution_count": null,
      "outputs": [
        {
          "output_type": "stream",
          "text": [
            "RMSE: 1.00\n",
            "RMSPE: 29.27%\n",
            "Accuracy using RMSPE: 70.73%\n",
            "\n",
            "MAPE: 24.04%\n",
            "Accuracy using MAPE: 75.96%\n",
            "\n",
            "Accuracy using almost correct: 60.00%\n",
            "\n",
            "                            OLS Regression Results                            \n",
            "==============================================================================\n",
            "Dep. Variable:                      y   R-squared:                       0.632\n",
            "Model:                            OLS   Adj. R-squared:                  0.562\n",
            "Method:                 Least Squares   F-statistic:                     9.066\n",
            "Date:                Wed, 02 Jun 2021   Prob (F-statistic):           1.79e-06\n",
            "Time:                        13:07:36   Log-Likelihood:                -54.155\n",
            "No. Observations:                  45   AIC:                             124.3\n",
            "Df Residuals:                      37   BIC:                             138.8\n",
            "Df Model:                           7                                         \n",
            "Covariance Type:            nonrobust                                         \n",
            "==============================================================================\n",
            "                 coef    std err          t      P>|t|      [0.025      0.975]\n",
            "------------------------------------------------------------------------------\n",
            "const          4.0356      0.133     30.450      0.000       3.767       4.304\n",
            "x1            -0.2639      0.217     -1.219      0.231      -0.703       0.175\n",
            "x2             0.1971      0.170      1.160      0.254      -0.147       0.542\n",
            "x3            -0.3475      0.172     -2.019      0.051      -0.696       0.001\n",
            "x4             0.1482      0.171      0.866      0.392      -0.198       0.495\n",
            "x5            -0.5513      0.201     -2.739      0.009      -0.959      -0.144\n",
            "x6             0.1595      0.163      0.979      0.334      -0.170       0.489\n",
            "x7            -0.3547      0.188     -1.884      0.067      -0.736       0.027\n",
            "==============================================================================\n",
            "Omnibus:                        2.507   Durbin-Watson:                   1.531\n",
            "Prob(Omnibus):                  0.285   Jarque-Bera (JB):                1.655\n",
            "Skew:                           0.448   Prob(JB):                        0.437\n",
            "Kurtosis:                       3.281   Cond. No.                         3.55\n",
            "==============================================================================\n",
            "\n",
            "Warnings:\n",
            "[1] Standard Errors assume that the covariance matrix of the errors is correctly specified.\n"
          ],
          "name": "stdout"
        }
      ]
    },
    {
      "cell_type": "markdown",
      "metadata": {
        "id": "zj1CZQU95Y0F"
      },
      "source": [
        "**Notes:**\n",
        "\n",
        "adjusted r2:\n",
        "\n",
        "model 1: 0.467\n",
        "\n",
        "model 2: 0.539\n",
        "\n",
        "model 3 (remove hobbies): 0.551\n",
        "\n",
        "model 4 (remove total_partner): 0.562\n",
        "\n",
        "p value < 0.05: financial \n",
        "\n",
        "highest p value: communicate"
      ]
    },
    {
      "cell_type": "markdown",
      "metadata": {
        "id": "f6rvU5bN6fod"
      },
      "source": [
        "## Model 5. Removing communicate\n",
        "\n",
        "x1-years_knowing\n",
        "\n",
        "x2-money\n",
        "\n",
        "x3-ready_children\n",
        "\n",
        "x4-financial\n",
        "\n",
        "x5-age_gap\n",
        "\n",
        "x6-inlaw\n",
        "\n",
        "~hobbies~\n",
        "\n",
        "~total_partners~\n",
        "\n",
        "~communicate~"
      ]
    },
    {
      "cell_type": "code",
      "metadata": {
        "colab": {
          "base_uri": "https://localhost:8080/"
        },
        "id": "uHerB77b1jyl",
        "outputId": "ea43973e-c8a1-4288-e1f0-00b62c5f425c"
      },
      "source": [
        "# Load data\n",
        "\n",
        "data = np.loadtxt(os.path.join('survey.txt'), delimiter=',')\n",
        "split = 45\n",
        "\n",
        "Xnew = X[:, :3]\n",
        "X_rest1 = X[:, 4:7]\n",
        "Xnew = np.concatenate([Xnew, X_rest1], axis=1)\n",
        "\n",
        "X_testnew =  X_test[:, :3]\n",
        "X_test_rest1 = X_test[:, 4:7]\n",
        "X_testnew = np.concatenate([X_testnew, X_test_rest1], axis=1)\n",
        "\n",
        "X = Xnew\n",
        "X_test = X_testnew\n",
        "y = data[:split, 9]\n",
        "y_test = data[split:, 9]\n",
        "\n",
        "print(X.shape)\n",
        "print(X_test.shape)\n",
        "print(y.shape)\n",
        "print(y_test.shape)\n"
      ],
      "execution_count": null,
      "outputs": [
        {
          "output_type": "stream",
          "text": [
            "(45, 6)\n",
            "(25, 6)\n",
            "(45,)\n",
            "(25,)\n"
          ],
          "name": "stdout"
        }
      ]
    },
    {
      "cell_type": "code",
      "metadata": {
        "colab": {
          "base_uri": "https://localhost:8080/"
        },
        "id": "zSmJDmCN6yIf",
        "outputId": "e5dd23b1-a7e5-4167-9c58-1e2c472e6f92"
      },
      "source": [
        "theta5 = model(X,y,X_test,y_test,7)"
      ],
      "execution_count": null,
      "outputs": [
        {
          "output_type": "stream",
          "text": [
            "RMSE: 1.00\n",
            "RMSPE: 29.77%\n",
            "Accuracy using RMSPE: 70.23%\n",
            "\n",
            "MAPE: 25.57%\n",
            "Accuracy using MAPE: 74.43%\n",
            "\n",
            "Accuracy using almost correct: 48.00%\n",
            "\n",
            "                            OLS Regression Results                            \n",
            "==============================================================================\n",
            "Dep. Variable:                      y   R-squared:                       0.624\n",
            "Model:                            OLS   Adj. R-squared:                  0.565\n",
            "Method:                 Least Squares   F-statistic:                     10.52\n",
            "Date:                Wed, 02 Jun 2021   Prob (F-statistic):           7.29e-07\n",
            "Time:                        13:12:42   Log-Likelihood:                -54.607\n",
            "No. Observations:                  45   AIC:                             123.2\n",
            "Df Residuals:                      38   BIC:                             135.9\n",
            "Df Model:                           6                                         \n",
            "Covariance Type:            nonrobust                                         \n",
            "==============================================================================\n",
            "                 coef    std err          t      P>|t|      [0.025      0.975]\n",
            "------------------------------------------------------------------------------\n",
            "const          4.0356      0.132     30.550      0.000       3.768       4.303\n",
            "x1            -0.2837      0.215     -1.322      0.194      -0.718       0.151\n",
            "x2             0.1941      0.169      1.146      0.259      -0.149       0.537\n",
            "x3            -0.3423      0.171     -1.997      0.053      -0.689       0.005\n",
            "x4            -0.4663      0.175     -2.662      0.011      -0.821      -0.112\n",
            "x5             0.1039      0.149      0.696      0.490      -0.198       0.406\n",
            "x6            -0.3668      0.187     -1.961      0.057      -0.746       0.012\n",
            "==============================================================================\n",
            "Omnibus:                        1.581   Durbin-Watson:                   1.407\n",
            "Prob(Omnibus):                  0.454   Jarque-Bera (JB):                0.882\n",
            "Skew:                           0.320   Prob(JB):                        0.643\n",
            "Kurtosis:                       3.248   Cond. No.                         3.34\n",
            "==============================================================================\n",
            "\n",
            "Warnings:\n",
            "[1] Standard Errors assume that the covariance matrix of the errors is correctly specified.\n"
          ],
          "name": "stdout"
        }
      ]
    },
    {
      "cell_type": "markdown",
      "metadata": {
        "id": "FhHJvwYU69LN"
      },
      "source": [
        "**Notes:**\n",
        "\n",
        "adjusted r2:\n",
        "\n",
        "model 1: 0.467\n",
        "\n",
        "model 2: 0.539\n",
        "\n",
        "model 3 (remove hobbies): 0.551\n",
        "\n",
        "model 4 (remove total_partner): 0.562\n",
        "  \n",
        "model 5 (remove communicate): 0.565  (even though adj r2 increasing but there are too much negative coefficients(4) and only 2 positive coefficient which easily lead to negative prediction-not good)\n",
        "\n",
        "p value < 0.05: financial\n",
        "\n",
        "highest p value: age gap"
      ]
    },
    {
      "cell_type": "markdown",
      "metadata": {
        "id": "7lX_WJ1M70Tc"
      },
      "source": [
        "## Model 6. Removing age_gap\n",
        "\n",
        "x1-years_knowing\n",
        "\n",
        "x2-money\n",
        "\n",
        "x3-ready_children\n",
        "\n",
        "x4-financial\n",
        "\n",
        "x5-inlaw\n",
        "\n",
        "~hobbies~\n",
        "\n",
        "~total_partners~\n",
        "\n",
        "~communicate~\n",
        "\n",
        "~age_gap~"
      ]
    },
    {
      "cell_type": "code",
      "metadata": {
        "colab": {
          "base_uri": "https://localhost:8080/"
        },
        "id": "LzalmX588Mru",
        "outputId": "c5c20920-ed4a-459d-c9de-6b93a2319139"
      },
      "source": [
        "# Load data\n",
        "\n",
        "data = np.loadtxt(os.path.join('survey.txt'), delimiter=',')\n",
        "split = 45\n",
        "\n",
        "Xnew = X[:, :4]\n",
        "X_rest1 = X[:, 5:6]\n",
        "Xnew = np.concatenate([Xnew, X_rest1], axis=1)\n",
        "\n",
        "X_testnew =  X_test[:, :4]\n",
        "X_test_rest1 = X_test[:, 5:6]\n",
        "X_testnew = np.concatenate([X_testnew, X_test_rest1], axis=1)\n",
        "\n",
        "X = Xnew\n",
        "X_test = X_testnew\n",
        "y = data[:split, 9]\n",
        "y_test = data[split:, 9]\n",
        "\n",
        "print(X.shape)\n",
        "print(X_test.shape)\n",
        "print(y.shape)\n",
        "print(y_test.shape)"
      ],
      "execution_count": null,
      "outputs": [
        {
          "output_type": "stream",
          "text": [
            "(45, 5)\n",
            "(25, 5)\n",
            "(45,)\n",
            "(25,)\n"
          ],
          "name": "stdout"
        }
      ]
    },
    {
      "cell_type": "code",
      "metadata": {
        "colab": {
          "base_uri": "https://localhost:8080/"
        },
        "id": "NAcMQO4W8MaU",
        "outputId": "9e66de14-7476-46d1-b516-b6c761636d03"
      },
      "source": [
        "model(X,y,X_test,y_test,6)"
      ],
      "execution_count": null,
      "outputs": [
        {
          "output_type": "stream",
          "text": [
            "RMSE: 0.99\n",
            "RMSPE: 30.14%\n",
            "Accuracy using RMSPE: 69.86%\n",
            "\n",
            "MAPE: 24.08%\n",
            "Accuracy using MAPE: 75.92%\n",
            "\n",
            "Accuracy using almost correct: 56.00%\n",
            "\n",
            "                            OLS Regression Results                            \n",
            "==============================================================================\n",
            "Dep. Variable:                      y   R-squared:                       0.619\n",
            "Model:                            OLS   Adj. R-squared:                  0.571\n",
            "Method:                 Least Squares   F-statistic:                     12.70\n",
            "Date:                Wed, 02 Jun 2021   Prob (F-statistic):           2.39e-07\n",
            "Time:                        13:13:27   Log-Likelihood:                -54.893\n",
            "No. Observations:                  45   AIC:                             121.8\n",
            "Df Residuals:                      39   BIC:                             132.6\n",
            "Df Model:                           5                                         \n",
            "Covariance Type:            nonrobust                                         \n",
            "==============================================================================\n",
            "                 coef    std err          t      P>|t|      [0.025      0.975]\n",
            "------------------------------------------------------------------------------\n",
            "const          4.0356      0.131     30.754      0.000       3.770       4.301\n",
            "x1            -0.3349      0.200     -1.673      0.102      -0.740       0.070\n",
            "x2             0.2163      0.165      1.309      0.198      -0.118       0.551\n",
            "x3            -0.3635      0.168     -2.169      0.036      -0.702      -0.025\n",
            "x4            -0.4600      0.174     -2.647      0.012      -0.812      -0.108\n",
            "x5            -0.3195      0.173     -1.845      0.073      -0.670       0.031\n",
            "==============================================================================\n",
            "Omnibus:                        1.122   Durbin-Watson:                   1.409\n",
            "Prob(Omnibus):                  0.571   Jarque-Bera (JB):                0.537\n",
            "Skew:                           0.247   Prob(JB):                        0.765\n",
            "Kurtosis:                       3.208   Cond. No.                         3.01\n",
            "==============================================================================\n",
            "\n",
            "Warnings:\n",
            "[1] Standard Errors assume that the covariance matrix of the errors is correctly specified.\n"
          ],
          "name": "stdout"
        },
        {
          "output_type": "execute_result",
          "data": {
            "text/plain": [
              "array([ 4.03555555, -0.335058  ,  0.21619282, -0.36343106, -0.459909  ,\n",
              "       -0.31950202])"
            ]
          },
          "metadata": {
            "tags": []
          },
          "execution_count": 44
        }
      ]
    },
    {
      "cell_type": "markdown",
      "metadata": {
        "id": "-nfvmDcR8eVX"
      },
      "source": [
        "**Notes:**\n",
        "\n",
        "adjusted r2:\n",
        "\n",
        "model 1: 0.467\n",
        "\n",
        "model 2: 0.539\n",
        "\n",
        "model 3 (remove hobbies): 0.551\n",
        "\n",
        "model 4 (remove total_partner): 0.562 (4 negative, 3 positive coefficients)\n",
        "\n",
        "model 5 (remove communicate): 0.565  (even though adj r2 increasing but there are too much negative coefficients(4) and only 2 positive coefficients which easily lead to negative prediction-not good)\n",
        "\n",
        "model 6 (remove age_gap): 0.571 \n",
        "(even though  adj r2 increasing but there are too much negative coefficients(4) and only 1 positive coefficient which easily lead to negative prediction-not good)\n",
        "\n",
        "p value < 0.05: financial, ready_children\n",
        "\n",
        "highest p value: money"
      ]
    },
    {
      "cell_type": "markdown",
      "metadata": {
        "id": "f2ra3rnv9Axr"
      },
      "source": [
        "## Model 7. Removing money\n",
        "\n",
        "x1-years_knowing\n",
        "\n",
        "x2-ready_children\n",
        "\n",
        "x3-financial\n",
        "\n",
        "x4-inlaw\n",
        "\n",
        "~hobbies~\n",
        "\n",
        "~total_partners~\n",
        "\n",
        "~communicate~\n",
        "\n",
        "~age_gap~\n",
        "\n",
        "~money~"
      ]
    },
    {
      "cell_type": "code",
      "metadata": {
        "colab": {
          "base_uri": "https://localhost:8080/"
        },
        "id": "noCpBLCU9Qzc",
        "outputId": "d8c1278a-10e3-4fea-d51f-cffe0b9120d3"
      },
      "source": [
        "# Load data\n",
        "\n",
        "data = np.loadtxt(os.path.join('survey.txt'), delimiter=',')\n",
        "split = 45\n",
        "\n",
        "Xnew = X[:, :1]\n",
        "X_rest1 = X[:, 2:5]\n",
        "Xnew = np.concatenate([Xnew, X_rest1], axis=1)\n",
        "\n",
        "X_testnew =  X_test[:, :1]\n",
        "X_test_rest1 = X_test[:, 2:5]\n",
        "X_testnew = np.concatenate([X_testnew, X_test_rest1], axis=1)\n",
        "\n",
        "X = Xnew\n",
        "X_test = X_testnew\n",
        "y = data[:split, 9]\n",
        "y_test = data[split:, 9]\n",
        "\n",
        "print(X.shape)\n",
        "print(X_test.shape)\n",
        "print(y.shape)\n",
        "print(y_test.shape)"
      ],
      "execution_count": null,
      "outputs": [
        {
          "output_type": "stream",
          "text": [
            "(45, 4)\n",
            "(25, 4)\n",
            "(45,)\n",
            "(25,)\n"
          ],
          "name": "stdout"
        }
      ]
    },
    {
      "cell_type": "code",
      "metadata": {
        "colab": {
          "base_uri": "https://localhost:8080/"
        },
        "id": "AT_jrMw39Yev",
        "outputId": "656a4843-dd8d-459c-e976-a1544f261db8"
      },
      "source": [
        "model(X,y,X_test,y_test,5)"
      ],
      "execution_count": null,
      "outputs": [
        {
          "output_type": "stream",
          "text": [
            "RMSE: 0.92\n",
            "RMSPE: 27.05%\n",
            "Accuracy using RMSPE: 72.95%\n",
            "\n",
            "MAPE: 19.97%\n",
            "Accuracy using MAPE: 80.03%\n",
            "\n",
            "Accuracy using almost correct: 56.00%\n",
            "\n",
            "                            OLS Regression Results                            \n",
            "==============================================================================\n",
            "Dep. Variable:                      y   R-squared:                       0.603\n",
            "Model:                            OLS   Adj. R-squared:                  0.563\n",
            "Method:                 Least Squares   F-statistic:                     15.17\n",
            "Date:                Wed, 02 Jun 2021   Prob (F-statistic):           1.25e-07\n",
            "Time:                        13:14:20   Log-Likelihood:                -55.859\n",
            "No. Observations:                  45   AIC:                             121.7\n",
            "Df Residuals:                      40   BIC:                             130.8\n",
            "Df Model:                           4                                         \n",
            "Covariance Type:            nonrobust                                         \n",
            "==============================================================================\n",
            "                 coef    std err          t      P>|t|      [0.025      0.975]\n",
            "------------------------------------------------------------------------------\n",
            "const          4.0356      0.132     30.484      0.000       3.768       4.303\n",
            "x1            -0.3114      0.201     -1.548      0.130      -0.718       0.095\n",
            "x2            -0.2898      0.159     -1.820      0.076      -0.612       0.032\n",
            "x3            -0.3849      0.166     -2.326      0.025      -0.719      -0.050\n",
            "x4            -0.3669      0.171     -2.147      0.038      -0.712      -0.022\n",
            "==============================================================================\n",
            "Omnibus:                        1.846   Durbin-Watson:                   1.501\n",
            "Prob(Omnibus):                  0.397   Jarque-Bera (JB):                0.981\n",
            "Skew:                           0.291   Prob(JB):                        0.612\n",
            "Kurtosis:                       3.430   Cond. No.                         2.83\n",
            "==============================================================================\n",
            "\n",
            "Warnings:\n",
            "[1] Standard Errors assume that the covariance matrix of the errors is correctly specified.\n"
          ],
          "name": "stdout"
        },
        {
          "output_type": "execute_result",
          "data": {
            "text/plain": [
              "array([ 4.03555555, -0.31163076, -0.28973307, -0.38491554, -0.3667786 ])"
            ]
          },
          "metadata": {
            "tags": []
          },
          "execution_count": 46
        }
      ]
    },
    {
      "cell_type": "markdown",
      "metadata": {
        "id": "5S_yz9C_990F"
      },
      "source": [
        "**Notes**:\n",
        "\n",
        "adjusted r2:\n",
        "\n",
        "model 1: 0.467\n",
        "\n",
        "model 2: 0.539\n",
        "\n",
        "model 3 (remove hobbies): 0.551\n",
        "\n",
        "model 4 (remove total_partner): 0.562 (4 negative, 3 positive coefficients)\n",
        "\n",
        "model 5 (remove communicate): 0.565 (even though adj r2 increasing but there are too much negative coefficients(4) and only 2 positive coefficients which easily lead to negative prediction-not good)\n",
        "\n",
        "model 6 (remove age_gap): 0.571 (even though adj r2 increasing but there are too much negative coefficients(4) and only 1 positive coefficient which easily lead to negative prediction-not good)\n",
        "\n",
        "model 7 (remove money): 0.563 (it decreasing-not good)\n",
        "\n",
        "p value < 0.05: financial, inlaw\n",
        "\n",
        "highest p value: years_knowing"
      ]
    },
    {
      "cell_type": "markdown",
      "metadata": {
        "id": "lYS-WJ5o3NUy"
      },
      "source": [
        "## Based on 7 models we have tested, we decided to go with Model 4 with 7 features.\n",
        "\n",
        "# Finalised Model:"
      ]
    },
    {
      "cell_type": "markdown",
      "metadata": {
        "id": "IchcxjRD3lxa"
      },
      "source": [
        "**7 Features to be used for the model**:\n",
        "\n",
        "x1 - years knowing each other\n",
        "\n",
        "x2 - how much you care about money\n",
        "\n",
        "x3 - readiness to have children\n",
        "\n",
        "x4 - how well you communicate with your partner\n",
        "\n",
        "x5 - your financial status\n",
        "\n",
        "x6 - age gap\n",
        "\n",
        "x7 - relationship with in-law"
      ]
    },
    {
      "cell_type": "code",
      "metadata": {
        "colab": {
          "base_uri": "https://localhost:8080/"
        },
        "id": "NONBn_xA4cS5",
        "outputId": "b2e2b6a7-378c-4150-880c-23de09db1b67"
      },
      "source": [
        "data = np.loadtxt(os.path.join('survey.txt'), delimiter=',')\n",
        "split = 45\n",
        "\n",
        "X = data[:split, :1]\n",
        "X_rest = data[:split, 2:4]\n",
        "X = np.concatenate([X, X_rest], axis=1)\n",
        "\n",
        "X_rest2 = data[:split, 5:9]\n",
        "X = np.concatenate([X, X_rest2], axis=1)\n",
        "y = data[:split, 9]\n",
        "m = y.size\n",
        "\n",
        "print(X.shape)\n",
        "print(y.shape)\n"
      ],
      "execution_count": null,
      "outputs": [
        {
          "output_type": "stream",
          "text": [
            "(45, 7)\n",
            "(45,)\n"
          ],
          "name": "stdout"
        }
      ]
    },
    {
      "cell_type": "code",
      "metadata": {
        "id": "L1aMSrDm8ytj"
      },
      "source": [
        "#to predict 1 new input\n",
        "def predict(x1,x2,x3,x4,x5,x6,x7):\n",
        "    x1_norm = ((x1 - mu[0]) / sigma[0]) \n",
        "    x2_norm = ((x2 - mu[1]) / sigma[1])\n",
        "    x3_norm = ((x3 - mu[2]) / sigma[2])\n",
        "    x4_norm = ((x4 - mu[3]) / sigma[3])\n",
        "    x5_norm = ((x5 - mu[4]) / sigma[4])\n",
        "    x6_norm = ((x6 - mu[5]) / sigma[5])\n",
        "    x7_norm = ((x7 - mu[6]) / sigma[6])\n",
        "    \n",
        "    #time taken to get married\n",
        "    time = np.array([1.0, x1_norm , x2_norm, x3_norm , x4_norm, x5_norm , \n",
        "                      x6_norm, x7_norm]).dot(theta)\n",
        "    #value for each input given\n",
        "    value = np.array([x1,x2,x3,x4,x5,x6,x7])\n",
        "    \n",
        "    return time,value\n",
        "  "
      ],
      "execution_count": null,
      "outputs": []
    },
    {
      "cell_type": "code",
      "metadata": {
        "id": "v6mqubqp4KFQ"
      },
      "source": [
        "# call featureNormalize on the loaded data\n",
        "X_norm, mu, sigma = featureNormalize(X)\n",
        "# Add intercept term to X\n",
        "X = np.concatenate([np.ones((m, 1)), X_norm], axis=1)\n",
        "\n",
        "# Settings\n",
        "# Choose some alpha value\n",
        "alpha = 0.1\n",
        "num_iters = 200\n",
        "# init theta and run gradient descent\n",
        "theta = np.zeros(8)\n",
        "theta, J_history = gradientDescentMulti(X, y, theta, alpha, num_iters)"
      ],
      "execution_count": null,
      "outputs": []
    },
    {
      "cell_type": "code",
      "metadata": {
        "id": "HzVe6jMw8kMp"
      },
      "source": [
        "  #displaying time taken to get married according to new input \n",
        "\n",
        "def result(prediction, value):\n",
        "  print('How many years did you know each other before becoming a couple? {:.0f}'.format(value[0]))\n",
        "  print('How much do you care about money? {:.0f}'.format(value[1]))\n",
        "  print('How ready are you in having children at that time? {:.0f} '.format(value[2]))\n",
        "  print('How well do you communicate with your partner? {:.0f}'.format(value[3]))\n",
        "  print('How is your financial status during couple relationship? {:.0f}'.format(value[4]))\n",
        "  print('What is the age gap (in years) between you and your partner? {:.0f}'.format(value[5]))\n",
        "  print('How well is you and your partner relationship with respective in-laws? {:.0f}'.format(value[6]))\n",
        "\n",
        "  print('===============================================================================')\n",
        "  if prediction < 1:\n",
        "    print('Predicted time taken to get married: < 1 year!!\\n'.format(prediction))\n",
        "    print('You have good mindset and preparation for marriage! \\nFind a suitable moment and propose to your love one! Good Luck!')\n",
        "  elif prediction < 4:\n",
        "    print('Predicted time taken to get married: {:.1f} years!!\\n'.format(prediction))\n",
        "    print('You still have time before getting into marriage. \\nPrepare yourself in becoming a better partner during this time and \\nstrike when the time is ripe!')\n",
        "  else:\n",
        "    print('Predicted time taken to get married: {:.1f} years!!\\n'.format(prediction))\n",
        "    print('Hmmm, that is long time to go. \\nAll I can say is to get to know your partner more,\\nhave a stable job and income and get close your partner\\'s family! \\nYou can do it!')\n",
        "  print('===============================================================================')\n"
      ],
      "execution_count": null,
      "outputs": []
    },
    {
      "cell_type": "code",
      "metadata": {
        "colab": {
          "base_uri": "https://localhost:8080/"
        },
        "id": "1kRExj7g6_xm",
        "outputId": "25b5944f-dee0-487e-86b9-22fbe24e6117"
      },
      "source": [
        "prediction1, value1 = predict(7,6,9,7,9,0,9)  #fastest example\n",
        "result(prediction1,value1)"
      ],
      "execution_count": null,
      "outputs": [
        {
          "output_type": "stream",
          "text": [
            "How many years did you know each other before becoming a couple? 7\n",
            "How much do you care about money? 6\n",
            "How ready are you in having children at that time? 9 \n",
            "How well do you communicate with your partner? 7\n",
            "How is your financial status during couple relationship? 9\n",
            "What is the age gap (in years) between you and your partner? 0\n",
            "How well is you and your partner relationship with respective in-laws? 9\n",
            "===============================================================================\n",
            "Predicted time taken to get married: < 1 year!!\n",
            "\n",
            "You have good mindset and preparation for marriage! \n",
            "Find a suitable moment and propose to your love one! Good Luck!\n",
            "===============================================================================\n"
          ],
          "name": "stdout"
        }
      ]
    },
    {
      "cell_type": "code",
      "metadata": {
        "colab": {
          "base_uri": "https://localhost:8080/"
        },
        "id": "U3Nt3Fly7UUS",
        "outputId": "a7dbf3ef-75e0-497c-c70d-5b0cfcba7e7f"
      },
      "source": [
        "prediction2, value2 = predict(2,7,6,7,8,1,8) #medium example\n",
        "result(prediction2,value2)"
      ],
      "execution_count": null,
      "outputs": [
        {
          "output_type": "stream",
          "text": [
            "How many years did you know each other before becoming a couple? 2\n",
            "How much do you care about money? 7\n",
            "How ready are you in having children at that time? 6 \n",
            "How well do you communicate with your partner? 7\n",
            "How is your financial status during couple relationship? 8\n",
            "What is the age gap (in years) between you and your partner? 1\n",
            "How well is you and your partner relationship with respective in-laws? 8\n",
            "===============================================================================\n",
            "Predicted time taken to get married: 2.5 years!!\n",
            "\n",
            "You still have time before getting into marriage. \n",
            "Prepare yourself in becoming a better partner during this time and \n",
            "strike when the time is ripe!\n",
            "===============================================================================\n"
          ],
          "name": "stdout"
        }
      ]
    },
    {
      "cell_type": "code",
      "metadata": {
        "colab": {
          "base_uri": "https://localhost:8080/"
        },
        "id": "B2tp48Vr7gry",
        "outputId": "f009cdb5-fd47-4ed2-832d-cfd4825a4d01"
      },
      "source": [
        "prediction3, value3 = predict(1,7,3,4,4,1,1) #long example\n",
        "result(prediction3,value3)"
      ],
      "execution_count": null,
      "outputs": [
        {
          "output_type": "stream",
          "text": [
            "How many years did you know each other before becoming a couple? 1\n",
            "How much do you care about money? 7\n",
            "How ready are you in having children at that time? 3 \n",
            "How well do you communicate with your partner? 4\n",
            "How is your financial status during couple relationship? 4\n",
            "What is the age gap (in years) between you and your partner? 1\n",
            "How well is you and your partner relationship with respective in-laws? 1\n",
            "===============================================================================\n",
            "Predicted time taken to get married: 6.4 years!!\n",
            "\n",
            "Hmmm, that is long time to go. \n",
            "All I can say is to get to know your partner more,\n",
            "have a stable job and income and get close your partner's family! \n",
            "You can do it!\n",
            "===============================================================================\n"
          ],
          "name": "stdout"
        }
      ]
    }
  ]
}